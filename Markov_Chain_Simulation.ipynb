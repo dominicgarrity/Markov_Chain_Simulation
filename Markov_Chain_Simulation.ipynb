{
 "cells": [
  {
   "cell_type": "code",
   "execution_count": 18,
   "id": "neutral-organizer",
   "metadata": {},
   "outputs": [],
   "source": [
    "#import sys\n",
    "#!{sys.executable} -m pip install -r requirements.txt\n",
    "import pandas as pd\n",
    "import numpy as np\n",
    "from numpy.linalg import matrix_power\n",
    "%matplotlib inline\n",
    "import matplotlib.pyplot as plt\n",
    "from scipy.stats import uniform\n",
    "from scipy.stats import expon\n",
    "from scipy.stats import norm\n",
    "from random import random"
   ]
  },
  {
   "cell_type": "code",
   "execution_count": 61,
   "id": "chicken-rabbit",
   "metadata": {},
   "outputs": [
    {
     "name": "stdout",
     "output_type": "stream",
     "text": [
      "Step 1: P^2\n",
      "[[0.4  0.42 0.18]\n",
      " [0.49 0.33 0.18]\n",
      " [0.49 0.42 0.09]]\n",
      "\n",
      "Step 2: P^4\n",
      "[[0.454  0.3822 0.1638]\n",
      " [0.4459 0.3903 0.1638]\n",
      " [0.4459 0.3822 0.1719]]\n",
      "\n",
      "Step 3: P^8\n",
      "[[0.4495774  0.38529582 0.16512678]\n",
      " [0.44951179 0.38536143 0.16512678]\n",
      " [0.44951179 0.38529582 0.16519239]]\n",
      "\n",
      "Step 4: P^16\n",
      "[[0.44954129 0.3853211  0.16513761]\n",
      " [0.44954128 0.3853211  0.16513761]\n",
      " [0.44954128 0.3853211  0.16513762]]\n",
      "\n",
      "Step 5: P^32\n",
      "[[0.44954128 0.3853211  0.16513761]\n",
      " [0.44954128 0.3853211  0.16513761]\n",
      " [0.44954128 0.3853211  0.16513761]]\n",
      "\n",
      "Step 6: P^64\n",
      "[[0.44954128 0.3853211  0.16513761]\n",
      " [0.44954128 0.3853211  0.16513761]\n",
      " [0.44954128 0.3853211  0.16513761]]\n",
      "\n"
     ]
    }
   ],
   "source": [
    "# Create transition matrix\n",
    "P = np.array([[0.4, 0.6, 0.0],\n",
    "              [0.4, 0.3, 0.3],\n",
    "              [0.7, 0.0, 0.3]])\n",
    "steady_P = P\n",
    "\n",
    "# Create state space \n",
    "states = ['State 0', 'State 1', 'State 2']\n",
    "\n",
    "exp_vals = [1, 2, 3, 4, 5, 6]\n",
    "# Compute P^n for n in {2, 4, 8, 16, 32, 64}\n",
    "for exp in exp_vals:\n",
    "    power = 2 ** exp\n",
    "    steady_P = np.linalg.matrix_power(P, power)\n",
    "    print('Step ', str(exp), ': P^', str(power), sep = '')\n",
    "    print(steady_P, end = '\\n\\n')"
   ]
  },
  {
   "cell_type": "code",
   "execution_count": 64,
   "id": "fifth-hollow",
   "metadata": {},
   "outputs": [
    {
     "name": "stdout",
     "output_type": "stream",
     "text": [
      "Number of times state 1 was visited in 100000 steps: 38525\n",
      "\n",
      "Number of times state 1 would be visited in 100000 steps if initial distribution were steady: 44954\n",
      "\n",
      "Number of times link 1 -> 2 was used in 100000 steps: 11475\n",
      "\n",
      "Number of times link 1 -> 2 would be used in 100000 steps if initial distribution were steady: 26972\n",
      "\n"
     ]
    }
   ],
   "source": [
    "# Simulate Markov chain\n",
    "def run_simulation(init_state, num_steps):\n",
    "    curr_state = init_state\n",
    "    state_list = [curr_state]\n",
    "    state_1_count = 0\n",
    "    link_count = 0\n",
    "    for i in range(0, num_steps):\n",
    "        # Get state number\n",
    "        j = int(curr_state[-1])\n",
    "        # Get corresponding row of transition matrix\n",
    "        prob_vector = P[j]\n",
    "        # Draw next state\n",
    "        next_state = np.random.choice(states, replace = True, p = prob_vector)\n",
    "        # Increment counters (if necessary)\n",
    "        if curr_state == \"State 1\":\n",
    "            state_1_count = state_1_count + 1\n",
    "            if next_state == \"State 2\":\n",
    "                link_count = link_count + 1\n",
    "        state_list.append(next_state)\n",
    "        curr_state = next_state\n",
    "    # return list of all visited states, num. of times state 1 was visited, \n",
    "    # and num. of times transition 1 -> 2 was used       \n",
    "    return state_list, state_1_count, link_count\n",
    "\n",
    "steps = 100000\n",
    "init_state = np.random.choice(states, replace = True)\n",
    "state_list, state_count, link_count = run_simulation(init_state, steps)\n",
    "# Get steady-state probability of state 1\n",
    "pi_1 = steady_P[0][0]\n",
    "# Get probability of 1 -> 2\n",
    "p12 = P[0][1]\n",
    "\n",
    "print(\"Number of times state 1 was visited in\", steps, \"steps:\", state_count, end = \"\\n\\n\")\n",
    "print(\"Number of times state 1 would be visited in\", steps, \"steps if initial distribution were steady:\", round(pi_1 * steps), end = \"\\n\\n\")\n",
    "print(\"Number of times link 1 -> 2 was used in\", steps, \"steps:\", link_count, end = \"\\n\\n\")\n",
    "print(\"Number of times link 1 -> 2 would be used in\", steps, \"steps if initial distribution were steady:\", round(pi_1 * p12 * steps), end = \"\\n\\n\")"
   ]
  },
  {
   "cell_type": "code",
   "execution_count": null,
   "id": "incomplete-wagon",
   "metadata": {},
   "outputs": [],
   "source": []
  }
 ],
 "metadata": {
  "kernelspec": {
   "display_name": "Python 3",
   "language": "python",
   "name": "python3"
  },
  "language_info": {
   "codemirror_mode": {
    "name": "ipython",
    "version": 3
   },
   "file_extension": ".py",
   "mimetype": "text/x-python",
   "name": "python",
   "nbconvert_exporter": "python",
   "pygments_lexer": "ipython3",
   "version": "3.9.2"
  }
 },
 "nbformat": 4,
 "nbformat_minor": 5
}
